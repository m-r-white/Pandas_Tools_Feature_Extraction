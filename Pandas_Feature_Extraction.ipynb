{
 "cells": [
  {
   "cell_type": "markdown",
   "metadata": {},
   "source": [
    "# Pandas - Feature Extraction\n",
    "\n",
    "Create a dataframe that simulates data."
   ]
  },
  {
   "cell_type": "code",
   "execution_count": null,
   "metadata": {
    "collapsed": true
   },
   "outputs": [],
   "source": [
    "import pandas as pd\n",
    "import numpy as np\n",
    "%matplotlib inline"
   ]
  },
  {
   "cell_type": "markdown",
   "metadata": {},
   "source": [
    "Using the current list of 30 NBA teams below and create matchups so that every team plays each other once."
   ]
  },
  {
   "cell_type": "code",
   "execution_count": null,
   "metadata": {
    "collapsed": true
   },
   "outputs": [],
   "source": [
    "teams = ['Atlanta Hawks',\n",
    "         'Boston Celtics',\n",
    "         'Brooklyn Nets',\n",
    "         'Charlotte Hornets',\n",
    "         'Chicago Bulls',\n",
    "         'Cleveland Cavaliers',\n",
    "         'Dallas Mavericks',\n",
    "         'Denver Nuggets',\n",
    "         'Detroit Pistons',\n",
    "         'Golden State Warriors',\n",
    "         'Houston Rockets',\n",
    "         'Indiana Pacers',\n",
    "         'Los Angeles Clippers',\n",
    "         'Los Angeles Lakers',\n",
    "         'Memphis Grizzlies',\n",
    "         'Miami Heat',\n",
    "         'Milwaukee Bucks',\n",
    "         'Minnesota Timberwolves',\n",
    "         'New Orleans Pelicans',\n",
    "         'New York Knicks',\n",
    "         'Oklahoma City Thunder',\n",
    "         'Orlando Magic',\n",
    "         'Philadelphia 76ers',\n",
    "         'Phoenix Suns',\n",
    "         'Portland Trail Blazers',\n",
    "         'Sacramento Kings',\n",
    "         'San Antonio Spurs',\n",
    "         'Toronto Raptors',\n",
    "         'Utah Jazz',\n",
    "         'Washington Wizards']"
   ]
  },
  {
   "cell_type": "markdown",
   "metadata": {},
   "source": [
    "Using a nested for loop to create an array of matchups. Each matchup will be a dictionary containing the team and their opponent.\n",
    "\n",
    "```python\n",
    "matchups = [{'team': 'Atlanta Hawks', 'opponent': 'Boston Celtics'}, {'team': 'Atlanta Hawks', 'opponent': 'Brooklyn Nets'}, ...]\n",
    "```\n",
    "\n",
    "NOTE: Making sure no team plays themselves."
   ]
  },
  {
   "cell_type": "code",
   "execution_count": null,
   "metadata": {},
   "outputs": [],
   "source": [
    "matchups = []\n",
    "for team in teams:\n",
    "    for opponent in teams:\n",
    "        if team == opponent:\n",
    "            continue\n",
    "        game = {}\n",
    "        game['team'] = team\n",
    "        game['opponent'] = opponent\n",
    "        matchups.append(game)\n",
    "        \n",
    "#         print('team',team)\n",
    "#         print('opponent', opponent)"
   ]
  },
  {
   "cell_type": "code",
   "execution_count": null,
   "metadata": {},
   "outputs": [],
   "source": [
    "team_score, opponent_score = np.random.choice(range(95,115), size=2, replace=False)\n",
    "location = np.random.choice(['H', 'A'])\n",
    "\n",
    "# print(team_score)\n",
    "# print(opponent_score)"
   ]
  },
  {
   "cell_type": "markdown",
   "metadata": {},
   "source": [
    "Now iterate through matchups and create a data points:\n",
    "\n",
    "1. The team's score\n",
    "2. The opponent's score\n",
    "3. Whether or not the game was home or away.\n",
    "\n",
    "Use numpy to randomly generate these values.\n",
    "\n",
    "Matchups will look like this when done:\n",
    "\n",
    "```python\n",
    "matchups = [\n",
    "    {\n",
    "        'opponent': 'Boston Celtics',\n",
    "        'opponent_score': 93,\n",
    "        'team': 'Atlanta Hawks',\n",
    "        'team_score': 104,\n",
    "        'location': 'H'\n",
    "    },\n",
    "    ...\n",
    "]\n",
    "```"
   ]
  },
  {
   "cell_type": "code",
   "execution_count": null,
   "metadata": {},
   "outputs": [],
   "source": [
    "for game in matchups:\n",
    "    team_score, opponent_score = np.random.choice(range(95, 115), size=2, replace=False)\n",
    "    location = np.random.choice(['H', 'A'])\n",
    "    game['team_score'] = team_score\n",
    "    game['opponent_score'] = opponent_score\n",
    "    game['location'] = location\n",
    "    # print(team_score)\n",
    "    # print(opponent_score)\n",
    "matchups[0]"
   ]
  },
  {
   "cell_type": "markdown",
   "metadata": {},
   "source": [
    "Use list of dictionaries to create a pandas dataframe."
   ]
  },
  {
   "cell_type": "code",
   "execution_count": null,
   "metadata": {},
   "outputs": [],
   "source": [
    "df = pd.DataFrame(matchups)\n",
    "df.head()"
   ]
  },
  {
   "cell_type": "code",
   "execution_count": null,
   "metadata": {},
   "outputs": [],
   "source": [
    "df.describe()"
   ]
  },
  {
   "cell_type": "code",
   "execution_count": null,
   "metadata": {},
   "outputs": [],
   "source": [
    "df['location'].value_counts()"
   ]
  },
  {
   "cell_type": "code",
   "execution_count": null,
   "metadata": {},
   "outputs": [],
   "source": [
    "df.corr()"
   ]
  },
  {
   "cell_type": "code",
   "execution_count": null,
   "metadata": {},
   "outputs": [],
   "source": [
    "df.plot('opponent_score', 'team_score', kind='scatter')"
   ]
  },
  {
   "cell_type": "code",
   "execution_count": null,
   "metadata": {},
   "outputs": [],
   "source": [
    "#$$$# show null values\n",
    "\n",
    "\n",
    "df.isnull().sum()"
   ]
  },
  {
   "cell_type": "markdown",
   "metadata": {},
   "source": [
    "# Feature extraction in pandas\n",
    "\n",
    "## Broadcasting\n",
    "\n",
    "Broadcasting enables mathemeatical operations across a vector without having to create a for loop. "
   ]
  },
  {
   "cell_type": "markdown",
   "metadata": {},
   "source": [
    "Using broadcast to double each number in the array:"
   ]
  },
  {
   "cell_type": "code",
   "execution_count": null,
   "metadata": {},
   "outputs": [],
   "source": [
    "df[['team_score']] *2"
   ]
  },
  {
   "cell_type": "code",
   "execution_count": 1,
   "metadata": {},
   "outputs": [],
   "source": [
    "# create a panda series"
   ]
  },
  {
   "cell_type": "markdown",
   "metadata": {},
   "source": [
    "Creating new features using broadcasting. \n",
    "\n",
    "Creating a win column which will be `True` or `False`, depending on whether or not the team's score is higher than their opponent's."
   ]
  },
  {
   "cell_type": "code",
   "execution_count": null,
   "metadata": {},
   "outputs": [],
   "source": [
    "# create column for win column\n",
    "df['win'] = df['team_score'] > df['opponent_score']\n",
    "df.head()"
   ]
  },
  {
   "cell_type": "markdown",
   "metadata": {},
   "source": [
    "ML needs 1's and 0's instead of booleans, changing the win column's datatype to be `int`"
   ]
  },
  {
   "cell_type": "code",
   "execution_count": null,
   "metadata": {},
   "outputs": [],
   "source": [
    "# further efficiency\n",
    "# turn true / fals (booleans) into integers\n",
    "\n",
    "df['win'] = df['win'].astype(int)\n",
    "df.head()\n"
   ]
  },
  {
   "cell_type": "markdown",
   "metadata": {},
   "source": [
    "Broadcasting a new column called point spread, which is the difference between the team's score and their opponent's.\n",
    "\n",
    "e.g. if the team's score is 90 and their opponent's is 99, then the point spread is -9."
   ]
  },
  {
   "cell_type": "code",
   "execution_count": null,
   "metadata": {},
   "outputs": [],
   "source": [
    "# spread, team score \n",
    "# MULTIPLE VECTORS\n",
    "\n",
    "\n",
    "df['spread'] = df['team_score'] - df['opponent_score']\n",
    "df.head()\n",
    "\n",
    "\n"
   ]
  },
  {
   "cell_type": "markdown",
   "metadata": {},
   "source": [
    "# Mapping\n",
    "\n",
    "[Basketball Reference](http://www.basketball-reference.com/) is a site for NBA statistics. Each team has a unique slug that is used in their urls. \n",
    "\n",
    "For example, Atlanta Hawks' url is http://www.basketball-reference.com/teams/ATL/, which means their slug is ATL. \n",
    "\n",
    "Below is a dictionary that **maps** each team to their respective slug (hence the name of this section). We'll use this dictionary to add a couple of columns to our data frame."
   ]
  },
  {
   "cell_type": "code",
   "execution_count": null,
   "metadata": {},
   "outputs": [],
   "source": [
    "# dictionary containing team slugs\n",
    "\n",
    "slug_dict = {'Atlanta Hawks':'ATL', 'Brooklyn Nets':'BRK', 'Boston Celtics':'BOS', 'Charlotte Hornets':'CHO', 'Chicago Bulls':'CHI', 'Cleveland Cavaliers':'CLE', 'Dallas Mavericks':'DAL', 'Denver Nuggets':'DEN', 'Detroit Pistons':'DET', 'Golden State Warriors':'GSW', 'Houston Rockets':'HOU', 'Indiana Pacers':'IND', 'Los Angeles Clippers':'LAC', 'Los Angeles Lakers':'LAL', 'Memphis Grizzlies':'MEM', 'Miami Heat':'MIA', 'Milwaukee Bucks':'MIL', 'Minnesota Timberwolves':'MIN', 'New Orleans Pelicans':'NOP', 'New York Knicks':'NYK', 'Oklahoma City Thunder':'OKC', 'Orlando Magic':'ORL', 'Philadelphia 76ers':'PHI', 'Phoenix Suns':'PHO', 'Portland Trail Blazers':'POR', 'Sacramento Kings':'SAC', 'San Antonio Spurs':'SAS', 'Toronto Raptors':'TOR', 'Utah Jazz':'UTA', 'Washington Wizards':'WAS'}\n",
    "slug_dict"
   ]
  },
  {
   "cell_type": "markdown",
   "metadata": {},
   "source": [
    "Using pandas' `map` method along with our dictionary to create a `'team_slug'` column:"
   ]
  },
  {
   "cell_type": "code",
   "execution_count": null,
   "metadata": {
    "scrolled": true
   },
   "outputs": [],
   "source": [
    "# use map to create team_slug column from another dictionary (slug_dict)\n",
    "# takes values only\n",
    "df['team_slug'] = df['team'].map(slug_dict)\n",
    "df.head()"
   ]
  },
  {
   "cell_type": "markdown",
   "metadata": {},
   "source": [
    "## Mapping practice\n",
    "\n",
    "Using `slug_dict`, create a new column for the opponent's slug:"
   ]
  },
  {
   "cell_type": "code",
   "execution_count": null,
   "metadata": {},
   "outputs": [],
   "source": [
    "# reverse keys and values\n",
    "\n",
    "{v:k for k, v in slug_dict.items()}"
   ]
  },
  {
   "cell_type": "code",
   "execution_count": null,
   "metadata": {},
   "outputs": [],
   "source": [
    "# create opponent SLUG from slug_dict\n",
    "\n",
    "df['opponent_slug'] = df['opponent'].map(slug_dict)\n",
    "df.head()\n",
    "\n"
   ]
  },
  {
   "cell_type": "code",
   "execution_count": null,
   "metadata": {
    "collapsed": true
   },
   "outputs": [],
   "source": [
    "# re-arrange columns, by creating a new dictionary\n",
    "\n",
    "df['opponent_slug'] = df['opponent'].map(slug_dict)\n",
    "df = df[['team', 'opponent']]\n",
    "df.head()\n"
   ]
  },
  {
   "cell_type": "markdown",
   "metadata": {},
   "source": [
    "# Apply\n",
    "vnc\n",
    "v \n",
    "Using functions to transform our data, done in two steps:\n",
    "\n",
    "1. Create the function to transform data frame\n",
    "2. Use the `apply` method to run this function across data frame.\n",
    "\n",
    "Changing slug columns to be the full url for each team/opponent. \n",
    "\n",
    "Creating a function that accepts a slug and returns the full Basketball Reference url for that slug:"
   ]
  },
  {
   "cell_type": "code",
   "execution_count": null,
   "metadata": {
    "collapsed": true
   },
   "outputs": [],
   "source": [
    "# have a a column of only a few values, (gender for example, m=1, f=2.\n",
    "# .map here would be done on location"
   ]
  },
  {
   "cell_type": "code",
   "execution_count": null,
   "metadata": {},
   "outputs": [],
   "source": [
    "# use map on binary values\n",
    "# turn H (home) and A (away) into 0,1 integers.\n",
    "df['encoded_location'] = df['location'].map({'A': 0, 'H': 1})\n",
    "df.head()"
   ]
  },
  {
   "cell_type": "code",
   "execution_count": null,
   "metadata": {},
   "outputs": [],
   "source": [
    "# handy way to create functions, use .apply method\n",
    "# if you need a transformation to occur, more than mapping\n",
    "\n",
    "# http://www.basketball-reference.com/teams/ATL/\n",
    "\n",
    "df.head()"
   ]
  },
  {
   "cell_type": "code",
   "execution_count": null,
   "metadata": {},
   "outputs": [],
   "source": [
    "# first - use .apply once\n",
    "\n",
    "def create_url_from_slug(slug):\n",
    "    return 'http://www.basketball-reference.com/teams/{}/'.format(slug)\n",
    "\n",
    "create_url_from_slug('')"
   ]
  },
  {
   "cell_type": "code",
   "execution_count": null,
   "metadata": {},
   "outputs": [],
   "source": [
    "# use function on every team using .apply\n",
    "\n",
    "df['team_slug'].apply(create_url_from_slug)"
   ]
  },
  {
   "cell_type": "markdown",
   "metadata": {},
   "source": [
    "Use this function to change `team_slug` column to be the full url:"
   ]
  },
  {
   "cell_type": "code",
   "execution_count": null,
   "metadata": {},
   "outputs": [],
   "source": [
    "# set it to a new column\n",
    "# .apply does a for loop for cell in column, takes the function you gave and uses on cell. \n",
    "# do not need (arguments) at the end.\n",
    "\n",
    "df['team_url'] = df['team_slug'].apply(create_url_from_slug)\n",
    "df.head()"
   ]
  },
  {
   "cell_type": "markdown",
   "metadata": {},
   "source": [
    "Now do the same for `opponent_slug`:"
   ]
  },
  {
   "cell_type": "code",
   "execution_count": null,
   "metadata": {},
   "outputs": [],
   "source": [
    "# create opponent url column\n",
    "\n",
    "df['opponent_url']  = df['opponent_slug'].apply(create_url_from_slug)\n",
    "df.head()"
   ]
  },
  {
   "cell_type": "markdown",
   "metadata": {},
   "source": [
    "### Cleanup: \n",
    "\n",
    "Columns are now the full url, and not just the slug, it makes sense to change the names of the columns:"
   ]
  },
  {
   "cell_type": "code",
   "execution_count": null,
   "metadata": {
    "collapsed": true
   },
   "outputs": [],
   "source": [
    "# always use functions in .apply method (and lambda's)"
   ]
  },
  {
   "cell_type": "markdown",
   "metadata": {},
   "source": [
    "Not every win in the NBA is the same (home vs. away). Some basketball statistics (https://en.wikipedia.org/wiki/Rating_Percentage_Index#Basketball_formula) account for this by reducing the value of a home win (and increasing the value of an away win). \n",
    "\n",
    "Creating a new column called `'adjusted_win'`, which will be 0.6 wins if they won at home and 1.4 wins if they won on the road.\n",
    "\n",
    "Using pandas `apply` method to create this new column.\n",
    "\n",
    "First, create a function that accepts an individual row as a parameter. \n",
    "- If the game was at home, multiply the win column by 0.6\n",
    "- If the game was played on the raod, multiply the win column by 1.4\n",
    "- NOTE: If the win column is zero, then the result will be zero"
   ]
  },
  {
   "cell_type": "code",
   "execution_count": null,
   "metadata": {},
   "outputs": [],
   "source": [
    "# this dictionary must have 'home' and 'location'\n",
    "# row =   , axis=1) \n",
    "# alligning columns or rows\n",
    "\n",
    "def adjusted_win(row):\n",
    "    if row['location'] == 'H':\n",
    "        return row['win'] * 0.6\n",
    "    else:\n",
    "        return row['win'] * 1.4\n",
    "    \n",
    "df['adjusted_win'] = df.apply(adjusted_win, axis=1)\n",
    "df.head()"
   ]
  },
  {
   "cell_type": "markdown",
   "metadata": {},
   "source": [
    "Using the `apply` method, along with our function to create the adjusted_win column. \n",
    "\n",
    "Note: slight change to `apply` method when dealing with multiple columns"
   ]
  },
  {
   "cell_type": "markdown",
   "metadata": {},
   "source": [
    "# Dummies (AKA One Hot Encoding)\n",
    "\n",
    "To incorporate the game's location in our machine learning model, need numerical values, but have strings.\n",
    "\n",
    "Pandas has a method for converting categorical data into numerical data. Using `get_dummies` to create numerical columns from `location` column:"
   ]
  },
  {
   "cell_type": "code",
   "execution_count": null,
   "metadata": {},
   "outputs": [],
   "source": [
    "# if we have a categorical column\n",
    "# we want that to be a feature, but with tirnary value 1 < 2 < 3 \n",
    "# use dummy's, 0 or 1 for all.\n",
    "# can do this in pandas using get dummys\n",
    "\n",
    "\n",
    "# once\n",
    "pd.get_dummies(df['location'])"
   ]
  },
  {
   "cell_type": "code",
   "execution_count": null,
   "metadata": {
    "collapsed": true
   },
   "outputs": [],
   "source": [
    "# add multiple columns to dataframe\n",
    "# replaces location\n",
    "\n",
    "new_df = pd.get_dummies(df, columns=['location']"
   ]
  },
  {
   "cell_type": "markdown",
   "metadata": {},
   "source": [
    "Create dummy columns from the `team` and `opponent` columns:"
   ]
  },
  {
   "cell_type": "code",
   "execution_count": null,
   "metadata": {},
   "outputs": [],
   "source": [
    "# first method\n",
    "\n",
    "new_df = pd.get_dummies(df, columns=['team', 'opponent'])\n",
    "new_df.head()"
   ]
  },
  {
   "cell_type": "code",
   "execution_count": null,
   "metadata": {},
   "outputs": [],
   "source": [
    "# only dummy cared about, concatenate to orig list\n",
    "\n",
    "new_df = pd.get_dummies(df[['team', 'opponent']])\n",
    "new_df.head()"
   ]
  },
  {
   "cell_type": "code",
   "execution_count": null,
   "metadata": {},
   "outputs": [],
   "source": [
    "df[df.columns[:10]]"
   ]
  }
 ],
 "metadata": {
  "anaconda-cloud": {},
  "kernelspec": {
   "display_name": "Python 3",
   "language": "python",
   "name": "python3"
  },
  "language_info": {
   "codemirror_mode": {
    "name": "ipython",
    "version": 3
   },
   "file_extension": ".py",
   "mimetype": "text/x-python",
   "name": "python",
   "nbconvert_exporter": "python",
   "pygments_lexer": "ipython3",
   "version": "3.5.3"
  }
 },
 "nbformat": 4,
 "nbformat_minor": 2
}
